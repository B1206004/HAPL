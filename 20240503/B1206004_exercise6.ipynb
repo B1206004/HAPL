{
  "nbformat": 4,
  "nbformat_minor": 0,
  "metadata": {
    "colab": {
      "provenance": []
    },
    "kernelspec": {
      "name": "python3",
      "display_name": "Python 3"
    },
    "language_info": {
      "name": "python"
    }
  },
  "cells": [
    {
      "cell_type": "code",
      "execution_count": 39,
      "metadata": {
        "colab": {
          "base_uri": "https://localhost:8080/"
        },
        "id": "Kijn_GCF_Bon",
        "outputId": "f3e048a7-e6c6-4dee-b332-061d9eb715d8"
      },
      "outputs": [
        {
          "output_type": "stream",
          "name": "stdout",
          "text": [
            "聖誕樹層數:12\n",
            "           *\n",
            "          ***\n",
            "         *****\n",
            "        *******\n",
            "       *********\n",
            "      ***********\n",
            "     *************\n",
            "    ***************\n",
            "   *****************\n",
            "  *******************\n",
            " *********************\n",
            "***********************\n",
            "          ***\n",
            "          ***\n",
            "          ***\n",
            "          ***\n",
            "          ***\n"
          ]
        }
      ],
      "source": [
        "def s(a):\n",
        " for i in range(a):\n",
        "  for j in range(a-i-1):\n",
        "    print(' ', end='')\n",
        "  for k in range(2*i+1):\n",
        "    print('*', end='')\n",
        "  print()\n",
        " for i in range(5):\n",
        "   for j in range(a-2):\n",
        "    print(' ', end='')\n",
        "   print('***')\n",
        "b=int(input(\"聖誕樹層數:\"))\n",
        "s(b)"
      ]
    },
    {
      "cell_type": "code",
      "source": [
        "def BMI(a,b):\n",
        "  BMI = a/(b/100)**2\n",
        "  return BMI\n",
        "try:\n",
        "  a=float(input(\"請輸入您的體重(公斤):\"))\n",
        "  b=float(input(\"請輸入您的身高(公分):\"))\n",
        "  c = BMI(a,b)\n",
        "  print(\"BMI是:\",c)\n",
        "  if c<18.5:\n",
        "   print(\"體位是:過輕\")\n",
        "  elif 18.5<=c<24:\n",
        "   print(\"體位是:適中\")\n",
        "  elif 24<=c<27:\n",
        "   print(\"體位是:過重\")\n",
        "  else:\n",
        "   print(\"體位是:肥胖\")\n",
        "except:\n",
        "  print('輸入內容錯誤')"
      ],
      "metadata": {
        "colab": {
          "base_uri": "https://localhost:8080/"
        },
        "id": "BsSq2bgPBN_q",
        "outputId": "e6be0644-bc37-4f7b-9d50-bf0870ab5686"
      },
      "execution_count": 17,
      "outputs": [
        {
          "output_type": "stream",
          "name": "stdout",
          "text": [
            "請輸入您的體重(公斤):e\n",
            "輸入內容錯誤\n"
          ]
        }
      ]
    },
    {
      "cell_type": "code",
      "source": [
        "def BMI(a,b):\n",
        "  BMI = a/(b/100)**2\n",
        "  return BMI\n",
        "try:\n",
        "  a=float(input(\"請輸入您的體重(公斤):\"))\n",
        "  b=float(input(\"請輸入您的身高(公分):\"))\n",
        "  c = BMI(a,b)\n",
        "  print(\"BMI是:\",c)\n",
        "  if c<18.5:\n",
        "   print(\"體位是:過輕\")\n",
        "  elif 18.5<=c<24:\n",
        "   print(\"體位是:適中\")\n",
        "  elif 24<=c<27:\n",
        "   print(\"體位是:過重\")\n",
        "  else:\n",
        "   print(\"體位是:肥胖\")\n",
        "except:\n",
        "   print('輸入內容錯誤')"
      ],
      "metadata": {
        "colab": {
          "base_uri": "https://localhost:8080/"
        },
        "id": "p87spg-AKMrK",
        "outputId": "bd12b8db-b822-4a0d-e56f-6cf17564a4fa"
      },
      "execution_count": 16,
      "outputs": [
        {
          "output_type": "stream",
          "name": "stdout",
          "text": [
            "請輸入您的體重(公斤):55\n",
            "請輸入您的身高(公分):178\n",
            "BMI是: 17.35891932836763\n",
            "體位是:過輕\n"
          ]
        }
      ]
    }
  ]
}
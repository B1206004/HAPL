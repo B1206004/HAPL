{
  "nbformat": 4,
  "nbformat_minor": 0,
  "metadata": {
    "colab": {
      "provenance": []
    },
    "kernelspec": {
      "name": "python3",
      "display_name": "Python 3"
    },
    "language_info": {
      "name": "python"
    }
  },
  "cells": [
    {
      "cell_type": "code",
      "execution_count": null,
      "metadata": {
        "colab": {
          "base_uri": "https://localhost:8080/"
        },
        "id": "Mtd7oK24ajIR",
        "outputId": "4092efdf-ba48-431f-f557-21c7d9974805"
      },
      "outputs": [
        {
          "output_type": "stream",
          "name": "stdout",
          "text": [
            "I'm a student\n"
          ]
        }
      ],
      "source": [
        "x=\"I'm a student\"\n",
        "print(x)"
      ]
    },
    {
      "cell_type": "code",
      "source": [
        "A=(0,0)\n",
        "B=(3,4)\n",
        "c=((3-0)**2+(4-0)**2)**(1/2)\n",
        "print(c)"
      ],
      "metadata": {
        "colab": {
          "base_uri": "https://localhost:8080/"
        },
        "id": "q0j9Jx-redjn",
        "outputId": "0c053f77-a9de-425d-ff30-b24ea29b87ea"
      },
      "execution_count": null,
      "outputs": [
        {
          "output_type": "stream",
          "name": "stdout",
          "text": [
            "5.0\n"
          ]
        }
      ]
    },
    {
      "cell_type": "code",
      "source": [
        "a=55\n",
        "b=1.78**2\n",
        "a/=b\n",
        "print(a)\n"
      ],
      "metadata": {
        "colab": {
          "base_uri": "https://localhost:8080/"
        },
        "id": "9MGxNu9JnKZL",
        "outputId": "06331fc2-1a0e-47a8-9959-9ceddd278be3"
      },
      "execution_count": null,
      "outputs": [
        {
          "output_type": "stream",
          "name": "stdout",
          "text": [
            "17.35891932836763\n"
          ]
        }
      ]
    }
  ]
}
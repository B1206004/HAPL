{
  "nbformat": 4,
  "nbformat_minor": 0,
  "metadata": {
    "colab": {
      "provenance": []
    },
    "kernelspec": {
      "name": "python3",
      "display_name": "Python 3"
    },
    "language_info": {
      "name": "python"
    }
  },
  "cells": [
    {
      "cell_type": "code",
      "execution_count": null,
      "metadata": {
        "colab": {
          "base_uri": "https://localhost:8080/"
        },
        "id": "Mtd7oK24ajIR",
        "outputId": "4092efdf-ba48-431f-f557-21c7d9974805"
      },
      "outputs": [
        {
          "output_type": "stream",
          "name": "stdout",
          "text": [
            "I'm a student\n"
          ]
        }
      ],
      "source": [
        "x=\"I'm a student\"\n",
        "print(x)"
      ]
    },
    {
      "cell_type": "code",
      "source": [
        "A=(0,0)\n",
        "B=(3,4)\n",
        "c=((3-0)**2+(4-0)**2)**(1/2)\n",
        "print(c)"
      ],
      "metadata": {
        "colab": {
          "base_uri": "https://localhost:8080/"
        },
        "id": "q0j9Jx-redjn",
        "outputId": "0c053f77-a9de-425d-ff30-b24ea29b87ea"
      },
      "execution_count": null,
      "outputs": [
        {
          "output_type": "stream",
          "name": "stdout",
          "text": [
            "5.0\n"
          ]
        }
      ]
    },
    {
      "cell_type": "code",
      "source": [
        "a= int(input('''輸入A(x1,y1):\n",
        "x1='''))\n",
        "b = int(input('''輸入A(x1,y1):\n",
        "y1='''))\n",
        "c = int(input('''輸入B(x2,y2):\n",
        "x2='''))\n",
        "d = int(input('''輸入B(x2,y2):\n",
        "y2='''))\n",
        "z=((a-c)**2+(b-d)**2)**0.5\n",
        "print(\"兩座標之間的距離:\",z)"
      ],
      "metadata": {
        "colab": {
          "base_uri": "https://localhost:8080/"
        },
        "id": "N9PAPt9s7MES",
        "outputId": "93d5fdf8-10a3-487b-fd3c-b6468d86ae8d"
      },
      "execution_count": 1,
      "outputs": [
        {
          "output_type": "stream",
          "name": "stdout",
          "text": [
            "輸入A(x1,y1):\n",
            "x1=0\n",
            "輸入A(x1,y1):\n",
            "y1=0\n",
            "輸入B(x2,y2):\n",
            "x2=3\n",
            "輸入B(x2,y2):\n",
            "y2=4\n",
            "兩座標之間的距離: 5.0\n"
          ]
        }
      ]
    },
    {
      "cell_type": "code",
      "source": [
        "a=55\n",
        "b=1.78**2\n",
        "a/=b\n",
        "print(a)\n"
      ],
      "metadata": {
        "colab": {
          "base_uri": "https://localhost:8080/"
        },
        "id": "9MGxNu9JnKZL",
        "outputId": "06331fc2-1a0e-47a8-9959-9ceddd278be3"
      },
      "execution_count": null,
      "outputs": [
        {
          "output_type": "stream",
          "name": "stdout",
          "text": [
            "17.35891932836763\n"
          ]
        }
      ]
    },
    {
      "cell_type": "code",
      "source": [
        "a =int(input('''身高(cm):\n",
        "'''))\n",
        "b =int(input('''體重(kg):\n",
        "'''))\n",
        "b/=((a/100)**2)\n",
        "print('你的BMI:',b)"
      ],
      "metadata": {
        "id": "A1cqWeER8FNx"
      },
      "execution_count": null,
      "outputs": []
    }
  ]
}
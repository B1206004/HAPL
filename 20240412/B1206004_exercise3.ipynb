{
  "nbformat": 4,
  "nbformat_minor": 0,
  "metadata": {
    "colab": {
      "provenance": []
    },
    "kernelspec": {
      "name": "python3",
      "display_name": "Python 3"
    },
    "language_info": {
      "name": "python"
    }
  },
  "cells": [
    {
      "cell_type": "code",
      "execution_count": 4,
      "metadata": {
        "colab": {
          "base_uri": "https://localhost:8080/"
        },
        "id": "ER5SRn8Rywz5",
        "outputId": "ed30e819-aa48-46ca-b110-98b889689e51"
      },
      "outputs": [
        {
          "output_type": "stream",
          "name": "stdout",
          "text": [
            "請輸入您的體重(公斤):57\n",
            "請輸入您的身高(公分):178\n",
            "BMI是: 17.99015275849009\n",
            "體位是:過輕\n"
          ]
        }
      ],
      "source": [
        "a=float(input(\"請輸入您的體重(公斤):\"))\n",
        "b=float(input(\"請輸入您的身高(公分):\"))\n",
        "BMI=a/(b/100)**2\n",
        "print(\"BMI是:\",BMI)\n",
        "if BMI<18.5:\n",
        "  print(\"體位是:過輕\")\n",
        "elif 18.5<=BMI<24:\n",
        "  print(\"體位是:適中\")\n",
        "elif 24<=BMI<27:\n",
        "  print(\"體位是:過重\")\n",
        "else:\n",
        "  print(\"體位是:肥胖\")"
      ]
    },
    {
      "cell_type": "code",
      "source": [
        "a=float(input(\"請輸入第一個數字:\"))\n",
        "b=input(\"請輸入運算符號\")\n",
        "c=float(input(\"請輸入第二個數字:\"))\n",
        "if b==\"+\":\n",
        "  print(a+c)\n",
        "elif b==\"-\":\n",
        "   print(a-c)\n",
        "elif b==\"*\":\n",
        "   print(a*c)\n",
        "elif b==\"/\":\n",
        "   print(a/c)\n"
      ],
      "metadata": {
        "colab": {
          "base_uri": "https://localhost:8080/"
        },
        "id": "GEFLv-Qf6r6R",
        "outputId": "75a02580-80db-4559-aaab-7658e086b147"
      },
      "execution_count": 7,
      "outputs": [
        {
          "output_type": "stream",
          "name": "stdout",
          "text": [
            "請輸入第一個數字:5\n",
            "請輸入運算符號*\n",
            "請輸入第二個數字:2\n",
            "10.0\n"
          ]
        }
      ]
    }
  ]
}
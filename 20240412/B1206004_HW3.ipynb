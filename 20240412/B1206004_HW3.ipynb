{
  "nbformat": 4,
  "nbformat_minor": 0,
  "metadata": {
    "colab": {
      "provenance": []
    },
    "kernelspec": {
      "name": "python3",
      "display_name": "Python 3"
    },
    "language_info": {
      "name": "python"
    }
  },
  "cells": [
    {
      "cell_type": "code",
      "execution_count": 2,
      "metadata": {
        "colab": {
          "base_uri": "https://localhost:8080/"
        },
        "id": "t8G-DNTTACCq",
        "outputId": "bd9056f5-4123-4899-9f0c-02e1acb91ca8"
      },
      "outputs": [
        {
          "output_type": "stream",
          "name": "stdout",
          "text": [
            "年份:2000\n",
            "2000 為閏年\n"
          ]
        }
      ],
      "source": [
        "a=int(input(\"年份:\"))\n",
        "if a<=1582:\n",
        "  if a%4==0:\n",
        "    print(a,\"為閏年\")\n",
        "  else:\n",
        "    print(a,\"為平年\")\n",
        "if a>1582:\n",
        "  if (a%4==0 and a%100!=0) or a%400==0:\n",
        "    print(a,\"為閏年\")\n",
        "  else:\n",
        "    print(a,\"為平年\")"
      ]
    }
  ]
}